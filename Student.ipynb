{
  "nbformat": 4,
  "nbformat_minor": 0,
  "metadata": {
    "colab": {
      "provenance": [],
      "toc_visible": true,
      "authorship_tag": "ABX9TyN00Gnh2Uf0FVcN4yqDfKZZ",
      "include_colab_link": true
    },
    "kernelspec": {
      "name": "python3",
      "display_name": "Python 3"
    },
    "language_info": {
      "name": "python"
    }
  },
  "cells": [
    {
      "cell_type": "markdown",
      "metadata": {
        "id": "view-in-github",
        "colab_type": "text"
      },
      "source": [
        "<a href=\"https://colab.research.google.com/github/ouadih1630/AI-project1/blob/main/Student.ipynb\" target=\"_parent\"><img src=\"https://colab.research.google.com/assets/colab-badge.svg\" alt=\"Open In Colab\"/></a>"
      ]
    },
    {
      "cell_type": "code",
      "metadata": {
        "id": "SfbyYOmvQePC"
      },
      "source": [
        "import pandas as pd\n",
        "import numpy as np\n",
        "import sklearn\n",
        "from sklearn import linear_model\n",
        "from sklearn.utils import shuffle"
      ],
      "execution_count": null,
      "outputs": []
    },
    {
      "cell_type": "code",
      "metadata": {
        "id": "DIHIX5uQRSy_"
      },
      "source": [
        "data =pd.read_csv(\"student-mat.csv\" ,sep=\";\")"
      ],
      "execution_count": null,
      "outputs": []
    },
    {
      "cell_type": "code",
      "metadata": {
        "colab": {
          "base_uri": "https://localhost:8080/"
        },
        "id": "9SPseY8CRikZ",
        "outputId": "a402d988-5813-46e2-8f1f-378065fe2c25"
      },
      "source": [
        "print (data.head())"
      ],
      "execution_count": null,
      "outputs": [
        {
          "output_type": "stream",
          "name": "stdout",
          "text": [
            "  school sex  age address famsize Pstatus  ...  Walc  health absences  G1  G2  G3\n",
            "0     GP   F   18       U     GT3       A  ...     1       3        6   5   6   6\n",
            "1     GP   F   17       U     GT3       T  ...     1       3        4   5   5   6\n",
            "2     GP   F   15       U     LE3       T  ...     3       3       10   7   8  10\n",
            "3     GP   F   15       U     GT3       T  ...     1       5        2  15  14  15\n",
            "4     GP   F   16       U     GT3       T  ...     2       5        4   6  10  10\n",
            "\n",
            "[5 rows x 33 columns]\n"
          ]
        }
      ]
    },
    {
      "cell_type": "code",
      "metadata": {
        "id": "Xl8wiWV_Rowq"
      },
      "source": [
        "data = data[[\"G1\", \"G2\", \"G3\", \"studytime\", \"failures\", \"absences\"]]\n"
      ],
      "execution_count": null,
      "outputs": []
    },
    {
      "cell_type": "code",
      "metadata": {
        "colab": {
          "base_uri": "https://localhost:8080/"
        },
        "id": "0pMSBddcSInp",
        "outputId": "76387ea4-7749-4a56-b7e6-ad44818d69e9"
      },
      "source": [
        "print (data.head())"
      ],
      "execution_count": null,
      "outputs": [
        {
          "output_type": "stream",
          "name": "stdout",
          "text": [
            "   G1  G2  G3  studytime  failures  absences\n",
            "0   5   6   6          2         0         6\n",
            "1   5   5   6          2         0         4\n",
            "2   7   8  10          2         3        10\n",
            "3  15  14  15          3         0         2\n",
            "4   6  10  10          2         0         4\n"
          ]
        }
      ]
    },
    {
      "cell_type": "code",
      "metadata": {
        "id": "vRHfwHnZSLzk"
      },
      "source": [
        "predict = \"G3\"\n",
        "x=np.array(data.drop([predict],1))\n",
        "y=np.array(data[predict])\n",
        "\n"
      ],
      "execution_count": null,
      "outputs": []
    },
    {
      "cell_type": "code",
      "metadata": {
        "id": "4vOgFmdsTxib"
      },
      "source": [
        "x_train,x_test,y_train,y_test=sklearn.model_selection.train_test_split(\n",
        "    x,y,test_size=0.1)"
      ],
      "execution_count": null,
      "outputs": []
    },
    {
      "cell_type": "code",
      "metadata": {
        "id": "JhU6A6PRULTz"
      },
      "source": [
        "linear=linear_model.LinearRegression()"
      ],
      "execution_count": null,
      "outputs": []
    },
    {
      "cell_type": "code",
      "metadata": {
        "colab": {
          "base_uri": "https://localhost:8080/"
        },
        "id": "5e3F7Xr3Vm0F",
        "outputId": "3de4e7ad-6f86-4edd-8529-47105510a148"
      },
      "source": [
        "linear.fit(x_train,y_train)"
      ],
      "execution_count": null,
      "outputs": [
        {
          "output_type": "execute_result",
          "data": {
            "text/plain": [
              "LinearRegression(copy_X=True, fit_intercept=True, n_jobs=None, normalize=False)"
            ]
          },
          "metadata": {},
          "execution_count": 9
        }
      ]
    },
    {
      "cell_type": "code",
      "metadata": {
        "id": "LXu2_XDrVxrC"
      },
      "source": [
        "linear.fit(x_train,y_train)\n",
        "acc =linear.score(x_test,y_test)"
      ],
      "execution_count": null,
      "outputs": []
    },
    {
      "cell_type": "code",
      "metadata": {
        "colab": {
          "base_uri": "https://localhost:8080/"
        },
        "id": "g4C6vfeCWFtY",
        "outputId": "01f37e07-06f9-469e-e4eb-aad433bbc183"
      },
      "source": [
        "print(acc)"
      ],
      "execution_count": null,
      "outputs": [
        {
          "output_type": "stream",
          "name": "stdout",
          "text": [
            "0.8719958515658697\n"
          ]
        }
      ]
    },
    {
      "cell_type": "code",
      "metadata": {
        "colab": {
          "base_uri": "https://localhost:8080/"
        },
        "id": "_CDWt6psWJRM",
        "outputId": "d4c630f8-9213-4884-982d-d538bed2874a"
      },
      "source": [
        "print('Coefficient: \\n', linear.coef_) # These are each slope value\n",
        "print('Intercept: \\n', linear.intercept_) # This is the intercept\n"
      ],
      "execution_count": null,
      "outputs": [
        {
          "output_type": "stream",
          "name": "stdout",
          "text": [
            "Coefficient: \n",
            " [ 0.17008132  0.96865524 -0.26588966 -0.30360057  0.03964125]\n",
            "Intercept: \n",
            " -1.438984731482746\n"
          ]
        }
      ]
    },
    {
      "cell_type": "code",
      "metadata": {
        "id": "JFDRiIt_WeSm",
        "outputId": "9796437c-db69-41ca-a997-0c4d08c9abe2",
        "colab": {
          "base_uri": "https://localhost:8080/"
        }
      },
      "source": [
        "predictions = linear.predict(x_test) # Gets a list of all predictions\n",
        "\n",
        "for x in range(len(predictions)):\n",
        "    print(predictions[x], x_test[x], y_test[x])"
      ],
      "execution_count": null,
      "outputs": [
        {
          "output_type": "stream",
          "name": "stdout",
          "text": [
            "17.217676194197516 [16 17  2  0  0] 17\n",
            "13.082175086840058 [14 13  2  0  2] 13\n",
            "9.479358239061327 [11 10  3  0  4] 10\n",
            "11.637907607008515 [13 12  3  0  1] 12\n",
            "12.91209376701977 [13 13  2  0  2] 13\n",
            "12.742012447199485 [12 13  2  0  2] 12\n",
            "10.71390314629667 [11 11  2  0  4] 11\n",
            "16.95178653027935 [16 17  3  0  0] 17\n",
            "11.279639082967506 [ 8 12  1  0  0] 12\n",
            "18.775857902527378 [19 18  2  0  2] 18\n",
            "15.03601141202047 [13 15  1  0  0] 15\n",
            "8.594255692976162 [ 8  8  1  0 30] 8\n",
            "8.860640784093869 [10 10  3  2  8] 10\n",
            "10.495352519461074 [13 10  2  1 22] 11\n",
            "7.937702369277522 [7 9 2 0 0] 8\n",
            "6.408320719118925 [8 7 2 0 6] 9\n",
            "9.818023629644099 [ 8 10  1  0 12] 10\n",
            "12.198716810646514 [11 13  4  0  6] 14\n",
            "12.922870737587182 [13 12  1  0 20] 12\n",
            "11.201936623270063 [12 12  4  0  1] 12\n",
            "6.170473202463452 [8 7 2 0 0] 8\n",
            "11.789883042428364 [11 12  1  0  0] 10\n",
            "7.054097072250157 [ 9  7  2  0 18] 6\n",
            "18.186331437514696 [16 18  2  0  0] 18\n",
            "13.801466504785123 [13 14  2  0  0] 15\n",
            "8.74855051239962 [11  9  3  0 10] 10\n",
            "9.076438932414986 [ 8 10  2  0  0] 12\n",
            "15.189566893294698 [15 15  2  0  2] 16\n",
            "19.44017323456991 [18 18  1  1 24] 18\n",
            "8.15026021718478 [ 7 10  4  1  2] 10\n",
            "10.023558807356686 [11 11  4  0  0] 11\n",
            "9.235003943518635 [ 8 10  2  0  4] 10\n",
            "12.832811261467947 [13 13  2  0  0] 13\n",
            "12.909097377555604 [14 13  3  1 12] 13\n",
            "5.627177565910481 [7 7 4 0 4] 6\n",
            "-1.7652695156757117 [5 0 1 3 0] 0\n",
            "9.575166583159206 [10 10  2  0  4] 11\n",
            "9.49588407760738 [10 10  2  0  2] 11\n",
            "8.266348700201457 [8 9 2 0 4] 10\n",
            "5.297626303244154 [7 6 1 0 0] 0\n"
          ]
        }
      ]
    },
    {
      "cell_type": "code",
      "metadata": {
        "id": "VGIlTNOFWjHO"
      },
      "source": [],
      "execution_count": null,
      "outputs": []
    }
  ]
}